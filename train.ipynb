{
 "cells": [
  {
   "cell_type": "code",
   "execution_count": 1,
   "metadata": {},
   "outputs": [],
   "source": [
    "import tensorflow as tf\n",
    "from tensorflow.keras.layers import Conv2D, MaxPooling2D, Flatten, Dense\n",
    "from tensorflow.keras.models import Sequential\n",
    "from tensorflow.keras.preprocessing.image import ImageDataGenerator\n",
    "from sklearn.metrics import confusion_matrix\n",
    "import numpy as np\n",
    "import matplotlib.pyplot as plt"
   ]
  },
  {
   "cell_type": "code",
   "execution_count": 2,
   "metadata": {},
   "outputs": [],
   "source": [
    "# Set the directories for the training and validation datasets\n",
    "train_dir = 'Dataset/Train'\n",
    "val_dir = 'Dataset/Test'"
   ]
  },
  {
   "cell_type": "code",
   "execution_count": 3,
   "metadata": {},
   "outputs": [],
   "source": [
    "# Set the parameters for the image preprocessing\n",
    "img_width, img_height = 224, 224\n",
    "batch_size = 32"
   ]
  },
  {
   "cell_type": "code",
   "execution_count": 4,
   "metadata": {},
   "outputs": [],
   "source": [
    "# Create data generators to preprocess the images\n",
    "train_datagen = ImageDataGenerator(rescale=1./255,\n",
    "                                   shear_range=0.2,\n",
    "                                   zoom_range=0.2,\n",
    "                                   horizontal_flip=True)\n",
    "val_datagen = ImageDataGenerator(rescale=1./255)"
   ]
  },
  {
   "cell_type": "code",
   "execution_count": 5,
   "metadata": {},
   "outputs": [
    {
     "name": "stdout",
     "output_type": "stream",
     "text": [
      "Found 255 images belonging to 2 classes.\n"
     ]
    }
   ],
   "source": [
    "train_generator = train_datagen.flow_from_directory(train_dir,\n",
    "                                                    target_size=(img_width, img_height),\n",
    "                                                    batch_size=batch_size,\n",
    "                                                    class_mode='categorical')"
   ]
  },
  {
   "cell_type": "code",
   "execution_count": 6,
   "metadata": {},
   "outputs": [
    {
     "name": "stdout",
     "output_type": "stream",
     "text": [
      "Found 154 images belonging to 2 classes.\n"
     ]
    }
   ],
   "source": [
    "val_generator = val_datagen.flow_from_directory(val_dir,\n",
    "                                                target_size=(img_width, img_height),\n",
    "                                                batch_size=batch_size,\n",
    "                                                class_mode='categorical')"
   ]
  },
  {
   "cell_type": "code",
   "execution_count": 7,
   "metadata": {},
   "outputs": [
    {
     "name": "stdout",
     "output_type": "stream",
     "text": [
      "WARNING:tensorflow:From C:\\Users\\rajes\\anaconda3\\envs\\tf\\lib\\site-packages\\tensorflow_core\\python\\ops\\resource_variable_ops.py:1630: calling BaseResourceVariable.__init__ (from tensorflow.python.ops.resource_variable_ops) with constraint is deprecated and will be removed in a future version.\n",
      "Instructions for updating:\n",
      "If using Keras pass *_constraint arguments to layers.\n"
     ]
    }
   ],
   "source": [
    "# Define the CNN architecture\n",
    "model = Sequential([\n",
    "    Conv2D(32, (3, 3), activation='relu', input_shape=(img_width, img_height, 3)),\n",
    "    MaxPooling2D((2, 2)),\n",
    "    Conv2D(64, (3, 3), activation='relu'),\n",
    "    MaxPooling2D((2, 2)),\n",
    "    Conv2D(128, (3, 3), activation='relu'),\n",
    "    MaxPooling2D((2, 2)),\n",
    "    Flatten(),\n",
    "    Dense(128, activation='relu'),\n",
    "    Dense(2, activation='softmax')\n",
    "])"
   ]
  },
  {
   "cell_type": "code",
   "execution_count": 8,
   "metadata": {},
   "outputs": [
    {
     "name": "stdout",
     "output_type": "stream",
     "text": [
      "Model: \"sequential\"\n",
      "_________________________________________________________________\n",
      "Layer (type)                 Output Shape              Param #   \n",
      "=================================================================\n",
      "conv2d (Conv2D)              (None, 222, 222, 32)      896       \n",
      "_________________________________________________________________\n",
      "max_pooling2d (MaxPooling2D) (None, 111, 111, 32)      0         \n",
      "_________________________________________________________________\n",
      "conv2d_1 (Conv2D)            (None, 109, 109, 64)      18496     \n",
      "_________________________________________________________________\n",
      "max_pooling2d_1 (MaxPooling2 (None, 54, 54, 64)        0         \n",
      "_________________________________________________________________\n",
      "conv2d_2 (Conv2D)            (None, 52, 52, 128)       73856     \n",
      "_________________________________________________________________\n",
      "max_pooling2d_2 (MaxPooling2 (None, 26, 26, 128)       0         \n",
      "_________________________________________________________________\n",
      "flatten (Flatten)            (None, 86528)             0         \n",
      "_________________________________________________________________\n",
      "dense (Dense)                (None, 128)               11075712  \n",
      "_________________________________________________________________\n",
      "dense_1 (Dense)              (None, 2)                 258       \n",
      "=================================================================\n",
      "Total params: 11,169,218\n",
      "Trainable params: 11,169,218\n",
      "Non-trainable params: 0\n",
      "_________________________________________________________________\n"
     ]
    }
   ],
   "source": [
    "model.summary()"
   ]
  },
  {
   "cell_type": "code",
   "execution_count": 9,
   "metadata": {},
   "outputs": [],
   "source": [
    "# Compile the model\n",
    "model.compile(optimizer='adam',\n",
    "              loss='categorical_crossentropy',\n",
    "              metrics=['accuracy'])"
   ]
  },
  {
   "cell_type": "code",
   "execution_count": null,
   "metadata": {},
   "outputs": [
    {
     "name": "stdout",
     "output_type": "stream",
     "text": [
      "Epoch 1/100\n",
      "7/8 [=========================>....] - ETA: 2s - loss: 2.2138 - acc: 0.5426Epoch 1/100\n",
      "8/8 [==============================] - 19s 2s/step - loss: 2.0165 - acc: 0.5608 - val_loss: 0.5752 - val_acc: 0.7338\n",
      "Epoch 2/100\n",
      "7/8 [=========================>....] - ETA: 1s - loss: 0.6187 - acc: 0.6368Epoch 1/100\n",
      "8/8 [==============================] - 17s 2s/step - loss: 0.6155 - acc: 0.6431 - val_loss: 0.5706 - val_acc: 0.7468\n",
      "Epoch 3/100\n",
      "7/8 [=========================>....] - ETA: 1s - loss: 0.5545 - acc: 0.7399Epoch 1/100\n",
      "8/8 [==============================] - 18s 2s/step - loss: 0.5506 - acc: 0.7412 - val_loss: 0.5601 - val_acc: 0.7078\n",
      "Epoch 4/100\n",
      "7/8 [=========================>....] - ETA: 2s - loss: 0.5467 - acc: 0.7803Epoch 1/100\n",
      "8/8 [==============================] - 21s 3s/step - loss: 0.5371 - acc: 0.7765 - val_loss: 0.5621 - val_acc: 0.7468\n",
      "Epoch 5/100\n",
      "7/8 [=========================>....] - ETA: 1s - loss: 0.5110 - acc: 0.7713Epoch 1/100\n",
      "8/8 [==============================] - 18s 2s/step - loss: 0.5417 - acc: 0.7490 - val_loss: 0.5213 - val_acc: 0.7662\n",
      "Epoch 6/100\n",
      "7/8 [=========================>....] - ETA: 1s - loss: 0.5692 - acc: 0.6816Epoch 1/100\n",
      "8/8 [==============================] - 18s 2s/step - loss: 0.5712 - acc: 0.6863 - val_loss: 0.5001 - val_acc: 0.7792\n",
      "Epoch 7/100\n",
      "7/8 [=========================>....] - ETA: 1s - loss: 0.5279 - acc: 0.7534Epoch 1/100\n",
      "8/8 [==============================] - 18s 2s/step - loss: 0.5234 - acc: 0.7608 - val_loss: 0.4982 - val_acc: 0.7208\n",
      "Epoch 8/100\n",
      "7/8 [=========================>....] - ETA: 2s - loss: 0.5023 - acc: 0.7937Epoch 1/100\n",
      "8/8 [==============================] - 20s 2s/step - loss: 0.5015 - acc: 0.7922 - val_loss: 0.4762 - val_acc: 0.7792\n",
      "Epoch 9/100\n",
      "7/8 [=========================>....] - ETA: 1s - loss: 0.4625 - acc: 0.7937Epoch 1/100\n",
      "8/8 [==============================] - 18s 2s/step - loss: 0.4685 - acc: 0.7882 - val_loss: 0.4301 - val_acc: 0.8182\n",
      "Epoch 10/100\n",
      "7/8 [=========================>....] - ETA: 1s - loss: 0.4628 - acc: 0.8251Epoch 1/100\n",
      "8/8 [==============================] - 18s 2s/step - loss: 0.4595 - acc: 0.8157 - val_loss: 0.3782 - val_acc: 0.8442\n",
      "Epoch 11/100\n",
      "7/8 [=========================>....] - ETA: 1s - loss: 0.3878 - acc: 0.8520Epoch 1/100\n",
      "8/8 [==============================] - 18s 2s/step - loss: 0.3852 - acc: 0.8431 - val_loss: 0.3549 - val_acc: 0.8896\n",
      "Epoch 12/100\n",
      "7/8 [=========================>....] - ETA: 1s - loss: 0.3836 - acc: 0.8430Epoch 1/100\n",
      "8/8 [==============================] - 17s 2s/step - loss: 0.4009 - acc: 0.8353 - val_loss: 0.3779 - val_acc: 0.8571\n",
      "Epoch 13/100\n",
      "7/8 [=========================>....] - ETA: 1s - loss: 0.4122 - acc: 0.8251Epoch 1/100\n",
      "8/8 [==============================] - 18s 2s/step - loss: 0.4099 - acc: 0.8314 - val_loss: 0.3379 - val_acc: 0.8896\n",
      "Epoch 14/100\n",
      "7/8 [=========================>....] - ETA: 2s - loss: 0.3699 - acc: 0.8393Epoch 1/100\n",
      "8/8 [==============================] - 21s 3s/step - loss: 0.3683 - acc: 0.8471 - val_loss: 0.2891 - val_acc: 0.9026\n",
      "Epoch 15/100\n",
      "7/8 [=========================>....] - ETA: 1s - loss: 0.3446 - acc: 0.8565Epoch 1/100\n",
      "8/8 [==============================] - 18s 2s/step - loss: 0.3673 - acc: 0.8431 - val_loss: 0.3173 - val_acc: 0.8961\n",
      "Epoch 16/100\n",
      "7/8 [=========================>....] - ETA: 2s - loss: 0.3583 - acc: 0.8520Epoch 1/100\n",
      "8/8 [==============================] - 21s 3s/step - loss: 0.3633 - acc: 0.8510 - val_loss: 0.3148 - val_acc: 0.8701\n",
      "Epoch 17/100\n",
      "7/8 [=========================>....] - ETA: 2s - loss: 0.3542 - acc: 0.8475Epoch 1/100\n",
      "8/8 [==============================] - 25s 3s/step - loss: 0.3701 - acc: 0.8353 - val_loss: 0.3917 - val_acc: 0.8182\n",
      "Epoch 18/100\n",
      "7/8 [=========================>....] - ETA: 1s - loss: 0.3190 - acc: 0.8705Epoch 1/100\n",
      "8/8 [==============================] - 18s 2s/step - loss: 0.3039 - acc: 0.8784 - val_loss: 0.3039 - val_acc: 0.8636\n",
      "Epoch 19/100\n",
      "7/8 [=========================>....] - ETA: 2s - loss: 0.2789 - acc: 0.8969Epoch 1/100\n",
      "8/8 [==============================] - 25s 3s/step - loss: 0.3080 - acc: 0.8902 - val_loss: 0.2411 - val_acc: 0.9156\n",
      "Epoch 20/100\n",
      "7/8 [=========================>....] - ETA: 2s - loss: 0.3185 - acc: 0.8924Epoch 1/100\n",
      "8/8 [==============================] - 21s 3s/step - loss: 0.3204 - acc: 0.8980 - val_loss: 0.2361 - val_acc: 0.9221\n",
      "Epoch 21/100\n",
      "7/8 [=========================>....] - ETA: 1s - loss: 0.2656 - acc: 0.8924Epoch 1/100\n",
      "8/8 [==============================] - 19s 2s/step - loss: 0.2871 - acc: 0.8824 - val_loss: 0.2250 - val_acc: 0.9156\n",
      "Epoch 22/100\n",
      "7/8 [=========================>....] - ETA: 2s - loss: 0.3225 - acc: 0.8789Epoch 1/100\n",
      "8/8 [==============================] - 19s 2s/step - loss: 0.2972 - acc: 0.8902 - val_loss: 0.2289 - val_acc: 0.8896\n",
      "Epoch 23/100\n",
      "6/8 [=====================>........] - ETA: 3s - loss: 0.3077 - acc: 0.8646"
     ]
    }
   ],
   "source": [
    "# Train the model\n",
    "epochs = 100\n",
    "history = model.fit(train_generator,\n",
    "                    epochs=epochs,\n",
    "                    validation_data=val_generator)"
   ]
  },
  {
   "cell_type": "code",
   "execution_count": null,
   "metadata": {},
   "outputs": [],
   "source": [
    "# Save the trained model\n",
    "model.save('tumour.h5')"
   ]
  },
  {
   "cell_type": "code",
   "execution_count": null,
   "metadata": {},
   "outputs": [],
   "source": [
    "# Plot the accuracy and loss curves\n",
    "acc = history.history['acc']\n",
    "val_acc = history.history['val_acc']\n",
    "loss = history.history['loss']\n",
    "val_loss = history.history['val_loss']"
   ]
  },
  {
   "cell_type": "code",
   "execution_count": null,
   "metadata": {},
   "outputs": [],
   "source": [
    "epochs_range = range(epochs)"
   ]
  },
  {
   "cell_type": "code",
   "execution_count": null,
   "metadata": {},
   "outputs": [],
   "source": [
    "plt.figure(figsize=(8, 8))\n",
    "plt.subplot(2, 1, 1)\n",
    "plt.plot(epochs_range, acc, label='Training Accuracy')\n",
    "plt.plot(epochs_range, val_acc, label='Validation Accuracy')\n",
    "plt.legend(loc='lower right')\n",
    "plt.title('Training and Validation Accuracy')"
   ]
  },
  {
   "cell_type": "code",
   "execution_count": null,
   "metadata": {},
   "outputs": [],
   "source": [
    "plt.subplot(2, 1, 2)\n",
    "plt.plot(epochs_range, loss, label='Training Loss')\n",
    "plt.plot(epochs_range, val_loss, label='Validation Loss')\n",
    "plt.legend(loc='upper right')\n",
    "plt.title('Training and Validation Loss')\n",
    "plt.show()"
   ]
  },
  {
   "cell_type": "code",
   "execution_count": null,
   "metadata": {},
   "outputs": [],
   "source": [
    "import numpy as np\n",
    "from sklearn.metrics import confusion_matrix\n",
    "from sklearn.utils.multiclass import unique_labels\n",
    "import matplotlib.pyplot as plt\n",
    "\n",
    "# Generate predictions and compute the confusion matrix\n",
    "Y_pred = model.predict(val_generator)\n",
    "y_pred = np.argmax(Y_pred, axis=1)\n",
    "cm = confusion_matrix(val_generator.classes, y_pred)\n",
    "\n",
    "# Define class labels\n",
    "class_names = ['braintumour', 'Notumour']\n",
    "\n",
    "# Plot the confusion matrix\n",
    "fig, ax = plt.subplots()\n",
    "im = ax.imshow(cm, interpolation='nearest', cmap=plt.cm.Blues)\n",
    "ax.figure.colorbar(im, ax=ax)\n",
    "# Set the x-axis and y-axis labels\n",
    "ax.set(xticks=np.arange(cm.shape[1]),\n",
    "       yticks=np.arange(cm.shape[0]),\n",
    "       xticklabels=class_names, yticklabels=class_names,\n",
    "       xlabel='Predicted label', ylabel='True label')\n",
    "# Rotate the x-axis labels to vertical orientation\n",
    "plt.setp(ax.get_xticklabels(), rotation=90, ha=\"right\",\n",
    "         rotation_mode=\"anchor\")\n",
    "# Loop over the data and annotate each cell with its value\n",
    "for i in range(cm.shape[0]):\n",
    "    for j in range(cm.shape[1]):\n",
    "        ax.text(j, i, format(cm[i, j], 'd'),\n",
    "                ha=\"center\", va=\"center\",\n",
    "                color=\"white\" if cm[i, j] > cm.max() / 2. else \"black\")\n",
    "# Add a title to the plot\n",
    "ax.set_title(\"Confusion matrix\")\n",
    "fig.tight_layout()\n",
    "plt.show()\n"
   ]
  },
  {
   "cell_type": "code",
   "execution_count": null,
   "metadata": {},
   "outputs": [],
   "source": [
    "from sklearn.metrics import classification_report\n",
    "\n",
    "# Generate predictions\n",
    "Y_pred = model.predict(val_generator)\n",
    "y_pred = np.argmax(Y_pred, axis=1)\n",
    "\n",
    "# Get the class labels\n",
    "class_labels = list(val_generator.class_indices.keys())\n",
    "\n",
    "# Generate the classification report\n",
    "report = classification_report(val_generator.classes, y_pred, target_names=class_labels)\n",
    "print(report)\n"
   ]
  },
  {
   "cell_type": "code",
   "execution_count": null,
   "metadata": {},
   "outputs": [],
   "source": [
    "# Get the class labels\n",
    "class_labels = list(val_generator.class_indices.keys())\n",
    "\n",
    "# Get the class-wise accuracy values\n",
    "class_wise_accuracy = cm.diagonal() / cm.sum(axis=1)\n",
    "\n",
    "# Create a bar chart\n",
    "plt.bar(class_labels, class_wise_accuracy)\n",
    "plt.title('Accuracy by Class')\n",
    "plt.xlabel('Class')\n",
    "plt.ylabel('Accuracy')\n",
    "plt.show()\n"
   ]
  },
  {
   "cell_type": "code",
   "execution_count": null,
   "metadata": {},
   "outputs": [],
   "source": [
    "# Evaluate the model on the validation data\n",
    "_, accuracy = model.evaluate(val_generator)\n",
    "\n",
    "# Print the validation accuracy\n",
    "print('Validation Accuracy: %.2f' % (accuracy*100))\n"
   ]
  },
  {
   "cell_type": "code",
   "execution_count": null,
   "metadata": {},
   "outputs": [],
   "source": [
    "# Get the accuracy from the history object\n",
    "accuracy = history.history['acc'][-1]\n",
    "\n",
    "# Print the accuracy to the console\n",
    "print(\"Accuracy: {:.2f}%\".format(accuracy * 100))"
   ]
  }
 ],
 "metadata": {
  "kernelspec": {
   "display_name": "Python 3 (ipykernel)",
   "language": "python",
   "name": "python3"
  },
  "language_info": {
   "codemirror_mode": {
    "name": "ipython",
    "version": 3
   },
   "file_extension": ".py",
   "mimetype": "text/x-python",
   "name": "python",
   "nbconvert_exporter": "python",
   "pygments_lexer": "ipython3",
   "version": "3.7.9"
  }
 },
 "nbformat": 4,
 "nbformat_minor": 2
}
